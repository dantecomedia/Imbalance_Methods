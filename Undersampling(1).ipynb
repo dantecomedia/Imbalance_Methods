{
  "nbformat": 4,
  "nbformat_minor": 0,
  "metadata": {
    "colab": {
      "name": "Undersampling.ipynb",
      "provenance": []
    },
    "kernelspec": {
      "name": "python3",
      "display_name": "Python 3"
    }
  },
  "cells": [
    {
      "cell_type": "code",
      "metadata": {
        "id": "wf-USKdVSGNT",
        "colab_type": "code",
        "colab": {}
      },
      "source": [
        "#loading basic dependencies\n",
        "import numpy as np\n",
        "import pandas as pd \n",
        "from imblearn.under_sampling import RandomUnderSampler\n",
        "from sklearn.preprocessing import LabelEncoder\n",
        "from sklearn.ensemble import RandomForestClassifier\n",
        "from sklearn.model_selection import train_test_split\n",
        "from sklearn.metrics import accuracy_score, classification_report , confusion_matrix\n",
        "import matplotlib.pyplot as plt \n",
        "import seaborn as sns"
      ],
      "execution_count": 89,
      "outputs": []
    },
    {
      "cell_type": "code",
      "metadata": {
        "id": "jJEsLf08TOrC",
        "colab_type": "code",
        "colab": {}
      },
      "source": [
        "#loading data\n",
        "data=pd.read_csv(\"train.csv\")"
      ],
      "execution_count": 65,
      "outputs": []
    },
    {
      "cell_type": "code",
      "metadata": {
        "id": "gO8FWDhLTbsT",
        "colab_type": "code",
        "colab": {
          "base_uri": "https://localhost:8080/",
          "height": 296
        },
        "outputId": "79f94f91-0f34-4ced-c8fc-6cc52eef5986"
      },
      "source": [
        "#getting first 5 rows\n",
        "data.head()"
      ],
      "execution_count": 66,
      "outputs": [
        {
          "output_type": "execute_result",
          "data": {
            "text/html": [
              "<div>\n",
              "<style scoped>\n",
              "    .dataframe tbody tr th:only-of-type {\n",
              "        vertical-align: middle;\n",
              "    }\n",
              "\n",
              "    .dataframe tbody tr th {\n",
              "        vertical-align: top;\n",
              "    }\n",
              "\n",
              "    .dataframe thead th {\n",
              "        text-align: right;\n",
              "    }\n",
              "</style>\n",
              "<table border=\"1\" class=\"dataframe\">\n",
              "  <thead>\n",
              "    <tr style=\"text-align: right;\">\n",
              "      <th></th>\n",
              "      <th>employee_id</th>\n",
              "      <th>department</th>\n",
              "      <th>region</th>\n",
              "      <th>education</th>\n",
              "      <th>gender</th>\n",
              "      <th>recruitment_channel</th>\n",
              "      <th>no_of_trainings</th>\n",
              "      <th>age</th>\n",
              "      <th>previous_year_rating</th>\n",
              "      <th>length_of_service</th>\n",
              "      <th>KPIs_met &gt;80%</th>\n",
              "      <th>awards_won?</th>\n",
              "      <th>avg_training_score</th>\n",
              "      <th>is_promoted</th>\n",
              "    </tr>\n",
              "  </thead>\n",
              "  <tbody>\n",
              "    <tr>\n",
              "      <th>0</th>\n",
              "      <td>65438</td>\n",
              "      <td>Sales &amp; Marketing</td>\n",
              "      <td>region_7</td>\n",
              "      <td>Master's &amp; above</td>\n",
              "      <td>f</td>\n",
              "      <td>sourcing</td>\n",
              "      <td>1</td>\n",
              "      <td>35</td>\n",
              "      <td>5.0</td>\n",
              "      <td>8</td>\n",
              "      <td>1</td>\n",
              "      <td>0</td>\n",
              "      <td>49</td>\n",
              "      <td>0</td>\n",
              "    </tr>\n",
              "    <tr>\n",
              "      <th>1</th>\n",
              "      <td>65141</td>\n",
              "      <td>Operations</td>\n",
              "      <td>region_22</td>\n",
              "      <td>Bachelor's</td>\n",
              "      <td>m</td>\n",
              "      <td>other</td>\n",
              "      <td>1</td>\n",
              "      <td>30</td>\n",
              "      <td>5.0</td>\n",
              "      <td>4</td>\n",
              "      <td>0</td>\n",
              "      <td>0</td>\n",
              "      <td>60</td>\n",
              "      <td>0</td>\n",
              "    </tr>\n",
              "    <tr>\n",
              "      <th>2</th>\n",
              "      <td>7513</td>\n",
              "      <td>Sales &amp; Marketing</td>\n",
              "      <td>region_19</td>\n",
              "      <td>Bachelor's</td>\n",
              "      <td>m</td>\n",
              "      <td>sourcing</td>\n",
              "      <td>1</td>\n",
              "      <td>34</td>\n",
              "      <td>3.0</td>\n",
              "      <td>7</td>\n",
              "      <td>0</td>\n",
              "      <td>0</td>\n",
              "      <td>50</td>\n",
              "      <td>0</td>\n",
              "    </tr>\n",
              "    <tr>\n",
              "      <th>3</th>\n",
              "      <td>2542</td>\n",
              "      <td>Sales &amp; Marketing</td>\n",
              "      <td>region_23</td>\n",
              "      <td>Bachelor's</td>\n",
              "      <td>m</td>\n",
              "      <td>other</td>\n",
              "      <td>2</td>\n",
              "      <td>39</td>\n",
              "      <td>1.0</td>\n",
              "      <td>10</td>\n",
              "      <td>0</td>\n",
              "      <td>0</td>\n",
              "      <td>50</td>\n",
              "      <td>0</td>\n",
              "    </tr>\n",
              "    <tr>\n",
              "      <th>4</th>\n",
              "      <td>48945</td>\n",
              "      <td>Technology</td>\n",
              "      <td>region_26</td>\n",
              "      <td>Bachelor's</td>\n",
              "      <td>m</td>\n",
              "      <td>other</td>\n",
              "      <td>1</td>\n",
              "      <td>45</td>\n",
              "      <td>3.0</td>\n",
              "      <td>2</td>\n",
              "      <td>0</td>\n",
              "      <td>0</td>\n",
              "      <td>73</td>\n",
              "      <td>0</td>\n",
              "    </tr>\n",
              "  </tbody>\n",
              "</table>\n",
              "</div>"
            ],
            "text/plain": [
              "   employee_id         department  ... avg_training_score is_promoted\n",
              "0        65438  Sales & Marketing  ...                 49           0\n",
              "1        65141         Operations  ...                 60           0\n",
              "2         7513  Sales & Marketing  ...                 50           0\n",
              "3         2542  Sales & Marketing  ...                 50           0\n",
              "4        48945         Technology  ...                 73           0\n",
              "\n",
              "[5 rows x 14 columns]"
            ]
          },
          "metadata": {
            "tags": []
          },
          "execution_count": 66
        }
      ]
    },
    {
      "cell_type": "code",
      "metadata": {
        "id": "8i675jM1Th00",
        "colab_type": "code",
        "colab": {
          "base_uri": "https://localhost:8080/",
          "height": 338
        },
        "outputId": "c2b65694-93f7-47c4-819f-7755d45b868b"
      },
      "source": [
        "#getting stastical information\n",
        "data.describe()"
      ],
      "execution_count": 67,
      "outputs": [
        {
          "output_type": "execute_result",
          "data": {
            "text/html": [
              "<div>\n",
              "<style scoped>\n",
              "    .dataframe tbody tr th:only-of-type {\n",
              "        vertical-align: middle;\n",
              "    }\n",
              "\n",
              "    .dataframe tbody tr th {\n",
              "        vertical-align: top;\n",
              "    }\n",
              "\n",
              "    .dataframe thead th {\n",
              "        text-align: right;\n",
              "    }\n",
              "</style>\n",
              "<table border=\"1\" class=\"dataframe\">\n",
              "  <thead>\n",
              "    <tr style=\"text-align: right;\">\n",
              "      <th></th>\n",
              "      <th>employee_id</th>\n",
              "      <th>no_of_trainings</th>\n",
              "      <th>age</th>\n",
              "      <th>previous_year_rating</th>\n",
              "      <th>length_of_service</th>\n",
              "      <th>KPIs_met &gt;80%</th>\n",
              "      <th>awards_won?</th>\n",
              "      <th>avg_training_score</th>\n",
              "      <th>is_promoted</th>\n",
              "    </tr>\n",
              "  </thead>\n",
              "  <tbody>\n",
              "    <tr>\n",
              "      <th>count</th>\n",
              "      <td>54808.000000</td>\n",
              "      <td>54808.000000</td>\n",
              "      <td>54808.000000</td>\n",
              "      <td>50684.000000</td>\n",
              "      <td>54808.000000</td>\n",
              "      <td>54808.000000</td>\n",
              "      <td>54808.000000</td>\n",
              "      <td>54808.000000</td>\n",
              "      <td>54808.000000</td>\n",
              "    </tr>\n",
              "    <tr>\n",
              "      <th>mean</th>\n",
              "      <td>39195.830627</td>\n",
              "      <td>1.253011</td>\n",
              "      <td>34.803915</td>\n",
              "      <td>3.329256</td>\n",
              "      <td>5.865512</td>\n",
              "      <td>0.351974</td>\n",
              "      <td>0.023172</td>\n",
              "      <td>63.386750</td>\n",
              "      <td>0.085170</td>\n",
              "    </tr>\n",
              "    <tr>\n",
              "      <th>std</th>\n",
              "      <td>22586.581449</td>\n",
              "      <td>0.609264</td>\n",
              "      <td>7.660169</td>\n",
              "      <td>1.259993</td>\n",
              "      <td>4.265094</td>\n",
              "      <td>0.477590</td>\n",
              "      <td>0.150450</td>\n",
              "      <td>13.371559</td>\n",
              "      <td>0.279137</td>\n",
              "    </tr>\n",
              "    <tr>\n",
              "      <th>min</th>\n",
              "      <td>1.000000</td>\n",
              "      <td>1.000000</td>\n",
              "      <td>20.000000</td>\n",
              "      <td>1.000000</td>\n",
              "      <td>1.000000</td>\n",
              "      <td>0.000000</td>\n",
              "      <td>0.000000</td>\n",
              "      <td>39.000000</td>\n",
              "      <td>0.000000</td>\n",
              "    </tr>\n",
              "    <tr>\n",
              "      <th>25%</th>\n",
              "      <td>19669.750000</td>\n",
              "      <td>1.000000</td>\n",
              "      <td>29.000000</td>\n",
              "      <td>3.000000</td>\n",
              "      <td>3.000000</td>\n",
              "      <td>0.000000</td>\n",
              "      <td>0.000000</td>\n",
              "      <td>51.000000</td>\n",
              "      <td>0.000000</td>\n",
              "    </tr>\n",
              "    <tr>\n",
              "      <th>50%</th>\n",
              "      <td>39225.500000</td>\n",
              "      <td>1.000000</td>\n",
              "      <td>33.000000</td>\n",
              "      <td>3.000000</td>\n",
              "      <td>5.000000</td>\n",
              "      <td>0.000000</td>\n",
              "      <td>0.000000</td>\n",
              "      <td>60.000000</td>\n",
              "      <td>0.000000</td>\n",
              "    </tr>\n",
              "    <tr>\n",
              "      <th>75%</th>\n",
              "      <td>58730.500000</td>\n",
              "      <td>1.000000</td>\n",
              "      <td>39.000000</td>\n",
              "      <td>4.000000</td>\n",
              "      <td>7.000000</td>\n",
              "      <td>1.000000</td>\n",
              "      <td>0.000000</td>\n",
              "      <td>76.000000</td>\n",
              "      <td>0.000000</td>\n",
              "    </tr>\n",
              "    <tr>\n",
              "      <th>max</th>\n",
              "      <td>78298.000000</td>\n",
              "      <td>10.000000</td>\n",
              "      <td>60.000000</td>\n",
              "      <td>5.000000</td>\n",
              "      <td>37.000000</td>\n",
              "      <td>1.000000</td>\n",
              "      <td>1.000000</td>\n",
              "      <td>99.000000</td>\n",
              "      <td>1.000000</td>\n",
              "    </tr>\n",
              "  </tbody>\n",
              "</table>\n",
              "</div>"
            ],
            "text/plain": [
              "        employee_id  no_of_trainings  ...  avg_training_score   is_promoted\n",
              "count  54808.000000     54808.000000  ...        54808.000000  54808.000000\n",
              "mean   39195.830627         1.253011  ...           63.386750      0.085170\n",
              "std    22586.581449         0.609264  ...           13.371559      0.279137\n",
              "min        1.000000         1.000000  ...           39.000000      0.000000\n",
              "25%    19669.750000         1.000000  ...           51.000000      0.000000\n",
              "50%    39225.500000         1.000000  ...           60.000000      0.000000\n",
              "75%    58730.500000         1.000000  ...           76.000000      0.000000\n",
              "max    78298.000000        10.000000  ...           99.000000      1.000000\n",
              "\n",
              "[8 rows x 9 columns]"
            ]
          },
          "metadata": {
            "tags": []
          },
          "execution_count": 67
        }
      ]
    },
    {
      "cell_type": "code",
      "metadata": {
        "id": "LDLkP4CGTpxE",
        "colab_type": "code",
        "colab": {
          "base_uri": "https://localhost:8080/",
          "height": 175
        },
        "outputId": "c91a648f-d84b-4ebe-ce55-e17dc8258bc1"
      },
      "source": [
        "#getting statstical information about categorical data\n",
        "data.describe(include=\"object\")"
      ],
      "execution_count": 68,
      "outputs": [
        {
          "output_type": "execute_result",
          "data": {
            "text/html": [
              "<div>\n",
              "<style scoped>\n",
              "    .dataframe tbody tr th:only-of-type {\n",
              "        vertical-align: middle;\n",
              "    }\n",
              "\n",
              "    .dataframe tbody tr th {\n",
              "        vertical-align: top;\n",
              "    }\n",
              "\n",
              "    .dataframe thead th {\n",
              "        text-align: right;\n",
              "    }\n",
              "</style>\n",
              "<table border=\"1\" class=\"dataframe\">\n",
              "  <thead>\n",
              "    <tr style=\"text-align: right;\">\n",
              "      <th></th>\n",
              "      <th>department</th>\n",
              "      <th>region</th>\n",
              "      <th>education</th>\n",
              "      <th>gender</th>\n",
              "      <th>recruitment_channel</th>\n",
              "    </tr>\n",
              "  </thead>\n",
              "  <tbody>\n",
              "    <tr>\n",
              "      <th>count</th>\n",
              "      <td>54808</td>\n",
              "      <td>54808</td>\n",
              "      <td>52399</td>\n",
              "      <td>54808</td>\n",
              "      <td>54808</td>\n",
              "    </tr>\n",
              "    <tr>\n",
              "      <th>unique</th>\n",
              "      <td>9</td>\n",
              "      <td>34</td>\n",
              "      <td>3</td>\n",
              "      <td>2</td>\n",
              "      <td>3</td>\n",
              "    </tr>\n",
              "    <tr>\n",
              "      <th>top</th>\n",
              "      <td>Sales &amp; Marketing</td>\n",
              "      <td>region_2</td>\n",
              "      <td>Bachelor's</td>\n",
              "      <td>m</td>\n",
              "      <td>other</td>\n",
              "    </tr>\n",
              "    <tr>\n",
              "      <th>freq</th>\n",
              "      <td>16840</td>\n",
              "      <td>12343</td>\n",
              "      <td>36669</td>\n",
              "      <td>38496</td>\n",
              "      <td>30446</td>\n",
              "    </tr>\n",
              "  </tbody>\n",
              "</table>\n",
              "</div>"
            ],
            "text/plain": [
              "               department    region   education gender recruitment_channel\n",
              "count               54808     54808       52399  54808               54808\n",
              "unique                  9        34           3      2                   3\n",
              "top     Sales & Marketing  region_2  Bachelor's      m               other\n",
              "freq                16840     12343       36669  38496               30446"
            ]
          },
          "metadata": {
            "tags": []
          },
          "execution_count": 68
        }
      ]
    },
    {
      "cell_type": "code",
      "metadata": {
        "id": "QWTyzax1TlUv",
        "colab_type": "code",
        "colab": {
          "base_uri": "https://localhost:8080/",
          "height": 34
        },
        "outputId": "f3a84d11-d9d5-4fda-c9fb-69b290f2a9c1"
      },
      "source": [
        "#getting shape of the data\n",
        "data.shape"
      ],
      "execution_count": 69,
      "outputs": [
        {
          "output_type": "execute_result",
          "data": {
            "text/plain": [
              "(54808, 14)"
            ]
          },
          "metadata": {
            "tags": []
          },
          "execution_count": 69
        }
      ]
    },
    {
      "cell_type": "code",
      "metadata": {
        "id": "r5gt1sMmT5GX",
        "colab_type": "code",
        "colab": {
          "base_uri": "https://localhost:8080/",
          "height": 332
        },
        "outputId": "848df150-395b-45f3-e51c-f5987976f98f"
      },
      "source": [
        "#Getting class distrubtion \n",
        "target_class=data.is_promoted.value_counts()\n",
        "print('Class 0:', target_class[0])\n",
        "print('Class 1:', target_class[1])\n",
        "print('Proportion:', round(target_class[0] / target_class[1], 2), ': 1')\n",
        "\n",
        "sns.countplot('is_promoted', data=data, palette='winter');"
      ],
      "execution_count": 70,
      "outputs": [
        {
          "output_type": "stream",
          "text": [
            "Class 0: 50140\n",
            "Class 1: 4668\n",
            "Proportion: 10.74 : 1\n"
          ],
          "name": "stdout"
        },
        {
          "output_type": "display_data",
          "data": {
            "image/png": "[encoded data removed]",
            "text/plain": [
              "<Figure size 432x288 with 1 Axes>"
            ]
          },
          "metadata": {
            "tags": [],
            "needs_background": "light"
          }
        }
      ]
    },
    {
      "cell_type": "code",
      "metadata": {
        "id": "ODoKTKSTVdRW",
        "colab_type": "code",
        "colab": {
          "base_uri": "https://localhost:8080/",
          "height": 278
        },
        "outputId": "9aa50523-efcc-4707-8cd6-8389d2508360"
      },
      "source": [
        "#checking null values\n",
        "data.isnull().any()"
      ],
      "execution_count": 71,
      "outputs": [
        {
          "output_type": "execute_result",
          "data": {
            "text/plain": [
              "employee_id             False\n",
              "department              False\n",
              "region                  False\n",
              "education                True\n",
              "gender                  False\n",
              "recruitment_channel     False\n",
              "no_of_trainings         False\n",
              "age                     False\n",
              "previous_year_rating     True\n",
              "length_of_service       False\n",
              "KPIs_met >80%           False\n",
              "awards_won?             False\n",
              "avg_training_score      False\n",
              "is_promoted             False\n",
              "dtype: bool"
            ]
          },
          "metadata": {
            "tags": []
          },
          "execution_count": 71
        }
      ]
    },
    {
      "cell_type": "code",
      "metadata": {
        "id": "J8bQADhzViX0",
        "colab_type": "code",
        "colab": {}
      },
      "source": [
        "#imputing the null values\n",
        "data['education'].fillna(\"No Education\", inplace = True)\n",
        "data['previous_year_rating'].fillna(data['previous_year_rating'].mean(), inplace=True)"
      ],
      "execution_count": 72,
      "outputs": []
    },
    {
      "cell_type": "code",
      "metadata": {
        "id": "p90M6BfUWnTm",
        "colab_type": "code",
        "colab": {
          "base_uri": "https://localhost:8080/",
          "height": 34
        },
        "outputId": "1b78a5ff-1171-4bf3-9832-4692b715605d"
      },
      "source": [
        "#checking for null values after imputation\n",
        "data.isnull().any().any()"
      ],
      "execution_count": 73,
      "outputs": [
        {
          "output_type": "execute_result",
          "data": {
            "text/plain": [
              "False"
            ]
          },
          "metadata": {
            "tags": []
          },
          "execution_count": 73
        }
      ]
    },
    {
      "cell_type": "code",
      "metadata": {
        "id": "V6Xj99DXjTF8",
        "colab_type": "code",
        "colab": {}
      },
      "source": [
        "#Using label encoder for converting categorical values to numerical values\n",
        "lb=LabelEncoder()\n",
        "data['department']= lb.fit_transform(data['department'])\n",
        "data['region']= lb.fit_transform(data['region'])\n",
        "data['education']= lb.fit_transform(data['education'])\n",
        "data['gender']= lb.fit_transform(data['gender'])\n",
        "data['recruitment_channel']= lb.fit_transform(data['recruitment_channel'])"
      ],
      "execution_count": 85,
      "outputs": []
    },
    {
      "cell_type": "code",
      "metadata": {
        "id": "jheNDZYsToYn",
        "colab_type": "code",
        "colab": {}
      },
      "source": [
        "#loading into X and y\n",
        "X=data.iloc[:,:-1]\n",
        "y=data.iloc[:,-1]"
      ],
      "execution_count": 86,
      "outputs": []
    },
    {
      "cell_type": "code",
      "metadata": {
        "id": "v0CSpwMZiuHW",
        "colab_type": "code",
        "colab": {}
      },
      "source": [
        "#Splitting dataset \n",
        "X_train,X_test, y_train, y_test=train_test_split(X,y, test_size=0.25, random_state=0)"
      ],
      "execution_count": 87,
      "outputs": []
    },
    {
      "cell_type": "markdown",
      "metadata": {
        "id": "o3CKw0JymQ0y",
        "colab_type": "text"
      },
      "source": [
        "Using Random forest for classification without any sampling method on this imbalanced data"
      ]
    },
    {
      "cell_type": "code",
      "metadata": {
        "id": "cnz2pq_siopx",
        "colab_type": "code",
        "colab": {}
      },
      "source": [
        "clf=RandomForestClassifier()\n",
        "clf.fit(X_train,y_train)\n",
        "y_predict=clf.predict(X_test)"
      ],
      "execution_count": 88,
      "outputs": []
    },
    {
      "cell_type": "code",
      "metadata": {
        "id": "DyaVXRPakxNP",
        "colab_type": "code",
        "colab": {
          "base_uri": "https://localhost:8080/",
          "height": 317
        },
        "outputId": "376a3a04-c4ef-427e-d642-64ec824f05b3"
      },
      "source": [
        "#Confusion metrics\n",
        "cm=confusion_matrix(y_test,y_predict)\n",
        "print(cm)\n",
        "sns.heatmap(cm, annot=True)"
      ],
      "execution_count": 92,
      "outputs": [
        {
          "output_type": "stream",
          "text": [
            "[[12509    39]\n",
            " [  865   289]]\n"
          ],
          "name": "stdout"
        },
        {
          "output_type": "execute_result",
          "data": {
            "text/plain": [
              "<matplotlib.axes._subplots.AxesSubplot at 0x7f15c91a8ba8>"
            ]
          },
          "metadata": {
            "tags": []
          },
          "execution_count": 92
        },
        {
          "output_type": "display_data",
          "data": {
            "image/png": "[encoded data removed]",
            "text/plain": [
              "<Figure size 432x288 with 2 Axes>"
            ]
          },
          "metadata": {
            "tags": [],
            "needs_background": "light"
          }
        }
      ]
    },
    {
      "cell_type": "code",
      "metadata": {
        "id": "tQWoqtBUlHOM",
        "colab_type": "code",
        "colab": {
          "base_uri": "https://localhost:8080/",
          "height": 191
        },
        "outputId": "602a6909-6b7a-45e6-b678-c49dbb9b0b7a"
      },
      "source": [
        "#Accuracy and classification report\n",
        "print(accuracy_score(y_test,y_predict))\n",
        "print(classification_report(y_test,y_predict))"
      ],
      "execution_count": 93,
      "outputs": [
        {
          "output_type": "stream",
          "text": [
            "0.9340242300394103\n",
            "              precision    recall  f1-score   support\n",
            "\n",
            "           0       0.94      1.00      0.97     12548\n",
            "           1       0.88      0.25      0.39      1154\n",
            "\n",
            "    accuracy                           0.93     13702\n",
            "   macro avg       0.91      0.62      0.68     13702\n",
            "weighted avg       0.93      0.93      0.92     13702\n",
            "\n"
          ],
          "name": "stdout"
        }
      ]
    },
    {
      "cell_type": "markdown",
      "metadata": {
        "id": "VcpUamcPmiid",
        "colab_type": "text"
      },
      "source": [
        "Using UnderSampling method to balance the dataset"
      ]
    },
    {
      "cell_type": "code",
      "metadata": {
        "id": "5qYedVitTR5K",
        "colab_type": "code",
        "colab": {
          "base_uri": "https://localhost:8080/",
          "height": 72
        },
        "outputId": "88ab52d3-6eb4-412e-cb03-be441d551d22"
      },
      "source": [
        "#UnderSampling\n",
        "ros = RandomUnderSampler(random_state=0)\n",
        "ros.fit(X, y)\n",
        "X_resampled, y_resampled = ros.fit_sample(X, y)"
      ],
      "execution_count": 94,
      "outputs": [
        {
          "output_type": "stream",
          "text": [
            "/usr/local/lib/python3.6/dist-packages/sklearn/utils/deprecation.py:87: FutureWarning: Function safe_indexing is deprecated; safe_indexing is deprecated in version 0.22 and will be removed in version 0.24.\n",
            "  warnings.warn(msg, category=FutureWarning)\n"
          ],
          "name": "stderr"
        }
      ]
    },
    {
      "cell_type": "code",
      "metadata": {
        "id": "pcd3s_IkTkv6",
        "colab_type": "code",
        "colab": {
          "base_uri": "https://localhost:8080/",
          "height": 317
        },
        "outputId": "66e07308-420c-4d0f-c3f0-428195a71fa0"
      },
      "source": [
        "#checking for class distribution after oversampling\n",
        "target_class_resampled=np.unique(y_resampled , return_counts=True)\n",
        "print('Class 0:', target_class_resampled[1][0])\n",
        "print('Class 1:', target_class_resampled[1][1])\n",
        "print('Proportion:', round(target_class_resampled[1][0] / target_class_resampled[1][1], 2), ': 1')\n",
        "\n",
        "sns.countplot(y_resampled, palette='winter');"
      ],
      "execution_count": 96,
      "outputs": [
        {
          "output_type": "stream",
          "text": [
            "Class 0: 4668\n",
            "Class 1: 4668\n",
            "Proportion: 1.0 : 1\n"
          ],
          "name": "stdout"
        },
        {
          "output_type": "display_data",
          "data": {
            "image/png": "[encoded data removed]",
            "text/plain": [
              "<Figure size 432x288 with 1 Axes>"
            ]
          },
          "metadata": {
            "tags": [],
            "needs_background": "light"
          }
        }
      ]
    },
    {
      "cell_type": "code",
      "metadata": {
        "id": "Nsm8PnN4lVND",
        "colab_type": "code",
        "colab": {}
      },
      "source": [
        "#Splitting the dataset\n",
        "X_train_re, X_test_re,y_train_re,y_test_re=train_test_split(X_resampled,y_resampled, test_size=0.25, random_state=0)"
      ],
      "execution_count": 97,
      "outputs": []
    },
    {
      "cell_type": "code",
      "metadata": {
        "id": "_r1l7Hihlu8e",
        "colab_type": "code",
        "colab": {}
      },
      "source": [
        "#Using random forest on this resampled dataset\n",
        "clf=RandomForestClassifier()\n",
        "clf.fit(X_train_re,y_train_re)\n",
        "y_predict_re=clf.predict(X_test_re)"
      ],
      "execution_count": 103,
      "outputs": []
    },
    {
      "cell_type": "code",
      "metadata": {
        "id": "VsokFsEnlzq_",
        "colab_type": "code",
        "colab": {
          "base_uri": "https://localhost:8080/",
          "height": 317
        },
        "outputId": "21ffc9dc-5707-40cd-cd69-1ce6ac6bde10"
      },
      "source": [
        "#confusion metrics\n",
        "cm=confusion_matrix(y_test_re,y_predict_re)\n",
        "print(cm)\n",
        "sns.heatmap(cm, annot=True)"
      ],
      "execution_count": 101,
      "outputs": [
        {
          "output_type": "stream",
          "text": [
            "[[ 828  326]\n",
            " [ 155 1025]]\n"
          ],
          "name": "stdout"
        },
        {
          "output_type": "execute_result",
          "data": {
            "text/plain": [
              "<matplotlib.axes._subplots.AxesSubplot at 0x7f15c9241e48>"
            ]
          },
          "metadata": {
            "tags": []
          },
          "execution_count": 101
        },
        {
          "output_type": "display_data",
          "data": {
            "image/png": "[encoded data removed]",
            "text/plain": [
              "<Figure size 432x288 with 2 Axes>"
            ]
          },
          "metadata": {
            "tags": [],
            "needs_background": "light"
          }
        }
      ]
    },
    {
      "cell_type": "code",
      "metadata": {
        "id": "whI11P4al3Ax",
        "colab_type": "code",
        "colab": {
          "base_uri": "https://localhost:8080/",
          "height": 191
        },
        "outputId": "8c326006-9f59-4cf7-fb38-314868aafe5e"
      },
      "source": [
        "#Accuracy score and classification report\n",
        "print(accuracy_score(y_test_re,y_predict_re))\n",
        "print(classification_report(y_test_re,y_predict_re))"
      ],
      "execution_count": 102,
      "outputs": [
        {
          "output_type": "stream",
          "text": [
            "0.7939160239931449\n",
            "              precision    recall  f1-score   support\n",
            "\n",
            "           0       0.84      0.72      0.77      1154\n",
            "           1       0.76      0.87      0.81      1180\n",
            "\n",
            "    accuracy                           0.79      2334\n",
            "   macro avg       0.80      0.79      0.79      2334\n",
            "weighted avg       0.80      0.79      0.79      2334\n",
            "\n"
          ],
          "name": "stdout"
        }
      ]
    },
    {
      "cell_type": "code",
      "metadata": {
        "id": "dRqtlKNAmBo3",
        "colab_type": "code",
        "colab": {}
      },
      "source": [
        ""
      ],
      "execution_count": null,
      "outputs": []
    }
  ]
}